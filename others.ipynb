{
 "cells": [
  {
   "cell_type": "code",
   "execution_count": 9,
   "metadata": {},
   "outputs": [],
   "source": [
    "import torch\n",
    "import torch.nn as nn\n",
    "import torch.nn.functional as F\n",
    "import numpy as np\n",
    "import os\n",
    "import pickle\n",
    "import torchvision\n",
    "import torchvision.transforms as transforms\n",
    "from models import resnet\n",
    "\n",
    "from torchvision.datasets.cifar import CIFAR10"
   ]
  },
  {
   "cell_type": "code",
   "execution_count": 72,
   "metadata": {},
   "outputs": [
    {
     "data": {
      "text/plain": [
       "[4.672895e-05,\n",
       " 0.0038594536,\n",
       " 0.0010078833,\n",
       " 0.00073429797,\n",
       " 0.0006922471,\n",
       " 0.0016427845,\n",
       " 0.000102753125,\n",
       " 0.0013155624,\n",
       " 0.00036793138,\n",
       " 0.0005843124,\n",
       " 0.00086901564,\n",
       " 0.0019085065,\n",
       " 0.0067123887,\n",
       " 1.1765132,\n",
       " 0.026078178]"
      ]
     },
     "execution_count": 72,
     "metadata": {},
     "output_type": "execute_result"
    }
   ],
   "source": [
    "with open('D:\\CASIA\\code_cc_misd\\loss_trained.pkl', 'rb') as f:\n",
    "    file1 = pickle.load(f)\n",
    "file1[:15]"
   ]
  },
  {
   "cell_type": "code",
   "execution_count": 74,
   "metadata": {},
   "outputs": [
    {
     "data": {
      "text/plain": [
       "[]"
      ]
     },
     "execution_count": 74,
     "metadata": {},
     "output_type": "execute_result"
    }
   ],
   "source": [
    "with open('D:\\CASIA\\code_cc_misd\\loss_trained_new.pkl', 'rb') as f:\n",
    "    file2 = pickle.load(f)\n",
    "file2[:15]"
   ]
  },
  {
   "cell_type": "code",
   "execution_count": 8,
   "metadata": {},
   "outputs": [
    {
     "data": {
      "text/plain": [
       "[4.672895e-05,\n",
       " 0.0038594536,\n",
       " 0.0010078833,\n",
       " 0.00073429797,\n",
       " 0.0006922471,\n",
       " 0.0016427845,\n",
       " 0.000102753125,\n",
       " 0.0013155624,\n",
       " 0.00036793138,\n",
       " 0.0005843124,\n",
       " 0.00086901564,\n",
       " 0.0019085065,\n",
       " 0.0067123887,\n",
       " 1.1765132,\n",
       " 0.026078178,\n",
       " 0.0043761204]"
      ]
     },
     "execution_count": 8,
     "metadata": {},
     "output_type": "execute_result"
    }
   ],
   "source": [
    "# class_names[:16]"
   ]
  },
  {
   "cell_type": "code",
   "execution_count": 61,
   "metadata": {},
   "outputs": [],
   "source": [
    "from typing import Any, Callable, Optional, Tuple\n",
    "from PIL import Image\n",
    "\n",
    "class CIFAR10_loss(CIFAR10):\n",
    "    def __init__(\n",
    "        self,\n",
    "        root: str,\n",
    "        train: bool = True,\n",
    "        transform: Optional[Callable] = None,\n",
    "        target_transform: Optional[Callable] = None,\n",
    "        download: bool = False,\n",
    "        loss_dir : str = None,\n",
    "        cut_rate: float = 0.0,\n",
    "    ) -> None:\n",
    "\n",
    "        super().__init__(root, transform=transform, target_transform=target_transform)\n",
    "        \n",
    "        self.losses = None\n",
    "        if loss_dir is not None:\n",
    "            self.losses = []\n",
    "            with open(loss_dir, 'rb') as f:\n",
    "                self.losses = pickle.load(f)\n",
    "        \n",
    "            if cut_rate > 0:\n",
    "                # cut the loss by the value of loss, drop the least loss\n",
    "                print('use cut_rate: ', cut_rate)\n",
    "                loss_sort = np.sort(self.losses)\n",
    "                cut_index = int(len(loss_sort) * cut_rate)\n",
    "                self.save_index = [self.losses.index(value) for value in loss_sort[cut_index:]]\n",
    "                self._refresh_data()\n",
    "                \n",
    "    def _refresh_data(self):\n",
    "        self.data = [self.data[i] for i in self.save_index]\n",
    "        self.targets = [self.targets[i] for i in self.save_index]\n",
    "        # if self.losses is not None:\n",
    "        self.losses = [self.losses[i] for i in self.save_index]\n",
    "        \n",
    "        print('refresh data', len(self.data), len(self.targets), len(self.losses))\n",
    "                \n",
    "            \n",
    "    \n",
    "    def __getitem__(self, index: int) -> Tuple[Any, Any]:\n",
    "        \"\"\"\n",
    "        Args:\n",
    "            index (int): Index\n",
    "\n",
    "        Returns:\n",
    "            tuple: (image, target, loss) where target is index of the target class.\n",
    "        \"\"\"\n",
    "        \n",
    "        img, target = self.data[index], self.targets[index]\n",
    "\n",
    "        img = Image.fromarray(img)\n",
    "        img.save('./temp.jpg')\n",
    "        print('save img', img.size, img.mode, target)\n",
    "        # doing this so that it is consistent with all other datasets\n",
    "        # to return a PIL Image\n",
    "        # img = Image.fromarray(img)\n",
    "\n",
    "        if self.transform is not None:\n",
    "            img = self.transform(img)\n",
    "        # print('target', target)\n",
    "        if self.target_transform is not None:\n",
    "            target = self.target_transform(target)\n",
    "            # print('target', target)\n",
    "        if self.losses is not None:\n",
    "            loss = self.losses[index]\n",
    "\n",
    "            return img, target, loss\n",
    "        else:\n",
    "            return img, target\n",
    "        \n",
    "        "
   ]
  },
  {
   "cell_type": "code",
   "execution_count": 66,
   "metadata": {},
   "outputs": [
    {
     "name": "stdout",
     "output_type": "stream",
     "text": [
      "use cut_rate:  0.95\n",
      "refresh data 2500 2500 2500\n"
     ]
    }
   ],
   "source": [
    "data_dir = 'data/res18-2/'\n",
    "transform_train = transforms.Compose([transforms.ToTensor(),])\n",
    "loss_dir = 'D:\\CASIA\\code_cc_misd\\loss_trained.pkl'\n",
    "trainset_cut = CIFAR10_loss(root=data_dir, train=True, download=True, transform=transform_train, loss_dir=loss_dir, cut_rate=0.95)\n"
   ]
  },
  {
   "cell_type": "code",
   "execution_count": 50,
   "metadata": {},
   "outputs": [
    {
     "data": {
      "text/plain": [
       "['airplane',\n",
       " 'automobile',\n",
       " 'bird',\n",
       " 'cat',\n",
       " 'deer',\n",
       " 'dog',\n",
       " 'frog',\n",
       " 'horse',\n",
       " 'ship',\n",
       " 'truck']"
      ]
     },
     "execution_count": 50,
     "metadata": {},
     "output_type": "execute_result"
    }
   ],
   "source": [
    "trainset_cut.classes"
   ]
  },
  {
   "cell_type": "code",
   "execution_count": 71,
   "metadata": {},
   "outputs": [
    {
     "name": "stdout",
     "output_type": "stream",
     "text": [
      "save img (32, 32) RGB 8\n"
     ]
    },
    {
     "data": {
      "text/plain": [
       "(tensor([[[1.0000, 0.6941, 0.2824,  ..., 0.0078, 0.0000, 0.0000],\n",
       "          [1.0000, 0.7137, 0.4314,  ..., 0.0039, 0.0000, 0.0000],\n",
       "          [1.0000, 0.7608, 0.3451,  ..., 0.0000, 0.0000, 0.0000],\n",
       "          ...,\n",
       "          [0.4039, 0.2353, 0.3059,  ..., 0.2627, 0.2039, 0.1059],\n",
       "          [0.3804, 0.2314, 0.2706,  ..., 0.2471, 0.1843, 0.0980],\n",
       "          [0.4667, 0.3569, 0.3529,  ..., 0.2118, 0.1686, 0.0863]],\n",
       " \n",
       "         [[1.0000, 0.8588, 0.6235,  ..., 0.0039, 0.0000, 0.0000],\n",
       "          [1.0000, 0.8627, 0.7176,  ..., 0.0039, 0.0000, 0.0000],\n",
       "          [1.0000, 0.8784, 0.6235,  ..., 0.0039, 0.0000, 0.0000],\n",
       "          ...,\n",
       "          [0.4784, 0.3137, 0.3804,  ..., 0.3529, 0.2902, 0.1529],\n",
       "          [0.4392, 0.2941, 0.3255,  ..., 0.3294, 0.2588, 0.1373],\n",
       "          [0.5137, 0.4078, 0.4000,  ..., 0.2627, 0.2157, 0.1137]],\n",
       " \n",
       "         [[1.0000, 0.9216, 0.7451,  ..., 0.0000, 0.0000, 0.0000],\n",
       "          [1.0000, 0.9137, 0.8196,  ..., 0.0039, 0.0000, 0.0000],\n",
       "          [1.0000, 0.9059, 0.7137,  ..., 0.0039, 0.0000, 0.0000],\n",
       "          ...,\n",
       "          [0.5451, 0.4118, 0.4627,  ..., 0.4431, 0.3529, 0.1961],\n",
       "          [0.5137, 0.3961, 0.4157,  ..., 0.3961, 0.3176, 0.1725],\n",
       "          [0.5804, 0.4902, 0.4588,  ..., 0.3020, 0.2510, 0.1373]]]),\n",
       " 8,\n",
       " 5.6097417)"
      ]
     },
     "execution_count": 71,
     "metadata": {},
     "output_type": "execute_result"
    }
   ],
   "source": [
    "trainset_cut.__getitem__(2390)"
   ]
  },
  {
   "cell_type": "code",
   "execution_count": 26,
   "metadata": {},
   "outputs": [
    {
     "data": {
      "text/plain": [
       "(tensor([[[0.2314, 0.1686, 0.1961,  ..., 0.6196, 0.5961, 0.5804],\n",
       "          [0.0627, 0.0000, 0.0706,  ..., 0.4824, 0.4667, 0.4784],\n",
       "          [0.0980, 0.0627, 0.1922,  ..., 0.4627, 0.4706, 0.4275],\n",
       "          ...,\n",
       "          [0.8157, 0.7882, 0.7765,  ..., 0.6275, 0.2196, 0.2078],\n",
       "          [0.7059, 0.6784, 0.7294,  ..., 0.7216, 0.3804, 0.3255],\n",
       "          [0.6941, 0.6588, 0.7020,  ..., 0.8471, 0.5922, 0.4824]],\n",
       " \n",
       "         [[0.2431, 0.1804, 0.1882,  ..., 0.5176, 0.4902, 0.4863],\n",
       "          [0.0784, 0.0000, 0.0314,  ..., 0.3451, 0.3255, 0.3412],\n",
       "          [0.0941, 0.0275, 0.1059,  ..., 0.3294, 0.3294, 0.2863],\n",
       "          ...,\n",
       "          [0.6667, 0.6000, 0.6314,  ..., 0.5216, 0.1216, 0.1333],\n",
       "          [0.5451, 0.4824, 0.5647,  ..., 0.5804, 0.2431, 0.2078],\n",
       "          [0.5647, 0.5059, 0.5569,  ..., 0.7216, 0.4627, 0.3608]],\n",
       " \n",
       "         [[0.2471, 0.1765, 0.1686,  ..., 0.4235, 0.4000, 0.4039],\n",
       "          [0.0784, 0.0000, 0.0000,  ..., 0.2157, 0.1961, 0.2235],\n",
       "          [0.0824, 0.0000, 0.0314,  ..., 0.1961, 0.1961, 0.1647],\n",
       "          ...,\n",
       "          [0.3765, 0.1333, 0.1020,  ..., 0.2745, 0.0275, 0.0784],\n",
       "          [0.3765, 0.1647, 0.1176,  ..., 0.3686, 0.1333, 0.1333],\n",
       "          [0.4549, 0.3686, 0.3412,  ..., 0.5490, 0.3294, 0.2824]]]),\n",
       " 6,\n",
       " 4.672895e-05)"
      ]
     },
     "execution_count": 26,
     "metadata": {},
     "output_type": "execute_result"
    }
   ],
   "source": [
    "trainset.__getitem__(0)"
   ]
  },
  {
   "cell_type": "code",
   "execution_count": 17,
   "metadata": {},
   "outputs": [
    {
     "name": "stdout",
     "output_type": "stream",
     "text": [
      "Compose(\n",
      "    ToTensor()\n",
      ")\n"
     ]
    }
   ],
   "source": [
    "# print(transform_train)"
   ]
  },
  {
   "cell_type": "code",
   "execution_count": 16,
   "metadata": {},
   "outputs": [
    {
     "name": "stdout",
     "output_type": "stream",
     "text": [
      "Files already downloaded and verified\n"
     ]
    },
    {
     "data": {
      "text/plain": [
       "(tensor([[[0.2314, 0.1686, 0.1961,  ..., 0.6196, 0.5961, 0.5804],\n",
       "          [0.0627, 0.0000, 0.0706,  ..., 0.4824, 0.4667, 0.4784],\n",
       "          [0.0980, 0.0627, 0.1922,  ..., 0.4627, 0.4706, 0.4275],\n",
       "          ...,\n",
       "          [0.8157, 0.7882, 0.7765,  ..., 0.6275, 0.2196, 0.2078],\n",
       "          [0.7059, 0.6784, 0.7294,  ..., 0.7216, 0.3804, 0.3255],\n",
       "          [0.6941, 0.6588, 0.7020,  ..., 0.8471, 0.5922, 0.4824]],\n",
       " \n",
       "         [[0.2431, 0.1804, 0.1882,  ..., 0.5176, 0.4902, 0.4863],\n",
       "          [0.0784, 0.0000, 0.0314,  ..., 0.3451, 0.3255, 0.3412],\n",
       "          [0.0941, 0.0275, 0.1059,  ..., 0.3294, 0.3294, 0.2863],\n",
       "          ...,\n",
       "          [0.6667, 0.6000, 0.6314,  ..., 0.5216, 0.1216, 0.1333],\n",
       "          [0.5451, 0.4824, 0.5647,  ..., 0.5804, 0.2431, 0.2078],\n",
       "          [0.5647, 0.5059, 0.5569,  ..., 0.7216, 0.4627, 0.3608]],\n",
       " \n",
       "         [[0.2471, 0.1765, 0.1686,  ..., 0.4235, 0.4000, 0.4039],\n",
       "          [0.0784, 0.0000, 0.0000,  ..., 0.2157, 0.1961, 0.2235],\n",
       "          [0.0824, 0.0000, 0.0314,  ..., 0.1961, 0.1961, 0.1647],\n",
       "          ...,\n",
       "          [0.3765, 0.1333, 0.1020,  ..., 0.2745, 0.0275, 0.0784],\n",
       "          [0.3765, 0.1647, 0.1176,  ..., 0.3686, 0.1333, 0.1333],\n",
       "          [0.4549, 0.3686, 0.3412,  ..., 0.5490, 0.3294, 0.2824]]]),\n",
       " 6)"
      ]
     },
     "execution_count": 16,
     "metadata": {},
     "output_type": "execute_result"
    }
   ],
   "source": [
    "trainset = torchvision.datasets.CIFAR10(root=data_dir, train=True, download=True, transform=transform_train)\n",
    "trainset.__getitem__(0)"
   ]
  },
  {
   "cell_type": "code",
   "execution_count": 1,
   "metadata": {},
   "outputs": [],
   "source": [
    "import pandas as pd\n",
    "file = r'D:\\CASIA\\code_cc_misd\\checkpoint\\res18-2\\resnet18-cifar10-fine-tune.csv'\n",
    "df = pd.read_csv(file)"
   ]
  },
  {
   "cell_type": "code",
   "execution_count": 11,
   "metadata": {},
   "outputs": [
    {
     "data": {
      "image/png": "[encoded data removed]",
      "text/plain": [
       "<Figure size 640x480 with 1 Axes>"
      ]
     },
     "metadata": {},
     "output_type": "display_data"
    }
   ],
   "source": [
    "import matplotlib.pyplot as plt\n",
    "plt.plot(df['auroc'][df['rate']==0.9][df['trial']==2].to_list())\n",
    "plt.show()"
   ]
  },
  {
   "cell_type": "code",
   "execution_count": 10,
   "metadata": {},
   "outputs": [
    {
     "data": {
      "text/plain": [
       "[93.09628472882758,\n",
       " 92.90545324963328,\n",
       " 92.98395524870644,\n",
       " 93.17519792010312,\n",
       " 92.78886816984468,\n",
       " 93.15211353571812,\n",
       " 93.29537206450853,\n",
       " 92.95557543519146,\n",
       " 92.86567355012832,\n",
       " 92.9342724712765,\n",
       " 93.09018935327202,\n",
       " 93.1782184389999,\n",
       " 92.94020887038378,\n",
       " 92.96329196269022,\n",
       " 92.92030974025934,\n",
       " 92.93601030123943,\n",
       " 92.89363113395387,\n",
       " 92.92019866859948,\n",
       " 92.64903290018168,\n",
       " 93.1529622304806,\n",
       " 92.77038002584624,\n",
       " 92.96003284791595,\n",
       " 93.1342714220468,\n",
       " 92.88858822052732,\n",
       " 92.6642320952632,\n",
       " 93.06741562493326,\n",
       " 93.01659654162276,\n",
       " 93.05203043751024,\n",
       " 92.81566767908429,\n",
       " 93.09375432543628,\n",
       " 92.88625267819631,\n",
       " 92.85793113150112,\n",
       " 92.95182811911044,\n",
       " 92.57059378463283,\n",
       " 92.75844823728156,\n",
       " 92.77568239892504,\n",
       " 92.80994739441098]"
      ]
     },
     "execution_count": 10,
     "metadata": {},
     "output_type": "execute_result"
    }
   ],
   "source": [
    "df['auroc'][df['rate']==0.9][df['trial']==2].to_list()"
   ]
  }
 ],
 "metadata": {
  "kernelspec": {
   "display_name": "torch",
   "language": "python",
   "name": "python3"
  },
  "language_info": {
   "codemirror_mode": {
    "name": "ipython",
    "version": 3
   },
   "file_extension": ".py",
   "mimetype": "text/x-python",
   "name": "python",
   "nbconvert_exporter": "python",
   "pygments_lexer": "ipython3",
   "version": "3.9.16"
  }
 },
 "nbformat": 4,
 "nbformat_minor": 2
}
